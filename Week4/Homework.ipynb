{
 "cells": [
  {
   "cell_type": "markdown",
   "metadata": {},
   "source": [
    "## Problem 1"
   ]
  },
  {
   "cell_type": "code",
   "execution_count": 2,
   "metadata": {},
   "outputs": [
    {
     "name": "stdout",
     "output_type": "stream",
     "text": [
      "3\n",
      "You don't get a discount.\n"
     ]
    }
   ],
   "source": [
    "n_shoes = int(input())\n",
    "if n_shoes * 100 > 1000:\n",
    "    print(\"You get a discount.\")\n",
    "else:\n",
    "    print(\"You don't get a discount.\")"
   ]
  },
  {
   "cell_type": "markdown",
   "metadata": {},
   "source": [
    "## Problem 2 "
   ]
  },
  {
   "cell_type": "code",
   "execution_count": 22,
   "metadata": {},
   "outputs": [
    {
     "name": "stdout",
     "output_type": "stream",
     "text": [
      "Good job.\n"
     ]
    }
   ],
   "source": [
    "d = {\"name\" : \"Armen\" , \"age\" : 15 , \"grades\": [10,8,8,4,6,7]}\n",
    "if sum(d['grades']) / len(d['grades']) >7:\n",
    "    print(\"Good job.\")\n",
    "else:\n",
    "    print(\"You need to work more.\")\n"
   ]
  },
  {
   "cell_type": "markdown",
   "metadata": {},
   "source": [
    "## Problem 3"
   ]
  },
  {
   "cell_type": "code",
   "execution_count": 23,
   "metadata": {},
   "outputs": [
    {
     "name": "stdout",
     "output_type": "stream",
     "text": [
      "1\n",
      "3\n",
      "5\n",
      "7\n",
      "9\n"
     ]
    }
   ],
   "source": [
    "for x in range(11):\n",
    "    if x% 2 ==0:\n",
    "        continue\n",
    "    else:\n",
    "        print(x)"
   ]
  },
  {
   "cell_type": "markdown",
   "metadata": {},
   "source": [
    "## Problem 4"
   ]
  },
  {
   "cell_type": "code",
   "execution_count": 31,
   "metadata": {},
   "outputs": [
    {
     "name": "stdout",
     "output_type": "stream",
     "text": [
      "6\n"
     ]
    }
   ],
   "source": [
    "list1 = [1,3,5,6,9,11,13,15]\n",
    "list2 = [4,6,14,11,8,16]\n",
    "for l1 in list1:\n",
    "    if list2.count(l1):\n",
    "        print(l1)\n",
    "        break"
   ]
  },
  {
   "cell_type": "markdown",
   "metadata": {},
   "source": [
    "## Problem 5"
   ]
  },
  {
   "cell_type": "code",
   "execution_count": 54,
   "metadata": {
    "scrolled": true
   },
   "outputs": [
    {
     "name": "stdout",
     "output_type": "stream",
     "text": [
      "Enter desert:banan\n",
      "Pleas choose another desert.\n",
      "Enter desert:kiwi\n",
      "Pleas choose another desert.\n",
      "Enter desert:kl\n",
      "Pleas choose another desert.\n",
      "Enter desert:cookies\n",
      "Your desert will arrive in 10 minutes.\n"
     ]
    }
   ],
   "source": [
    "menu = ['ice cream', 'chocolate', 'apple crisp', 'cookies']\n",
    "\n",
    "while True:\n",
    "    desert = input(\"Enter desert:\")\n",
    "    if menu.count(desert):\n",
    "        print(\"Your desert will arrive in 10 minutes.\")\n",
    "        break\n",
    "    else:\n",
    "        print(\"Pleas choose another desert.\")"
   ]
  },
  {
   "cell_type": "markdown",
   "metadata": {},
   "source": [
    "## Problem 6"
   ]
  },
  {
   "cell_type": "code",
   "execution_count": 41,
   "metadata": {},
   "outputs": [
    {
     "name": "stdout",
     "output_type": "stream",
     "text": [
      "[7, 8, 6]\n"
     ]
    }
   ],
   "source": [
    "list2 = [2,3,42,12,44,64,2,7,8,6,3,4,5,67,1,2]\n",
    "print([x for x in list2 if x < 10 and x > 5 ])"
   ]
  },
  {
   "cell_type": "markdown",
   "metadata": {},
   "source": [
    "## Problem 7"
   ]
  },
  {
   "cell_type": "code",
   "execution_count": 3,
   "metadata": {},
   "outputs": [
    {
     "data": {
      "text/plain": [
       "[[10, 20, 40], [40, 50, 60], [70, 80, 90]]"
      ]
     },
     "execution_count": 3,
     "metadata": {},
     "output_type": "execute_result"
    }
   ],
   "source": [
    "list4 = [[10,20,40] , [40,50,60] , [70,80,90]]\n",
    "list5 = []\n",
    "\n",
    "list5"
   ]
  },
  {
   "cell_type": "code",
   "execution_count": null,
   "metadata": {},
   "outputs": [],
   "source": []
  }
 ],
 "metadata": {
  "kernelspec": {
   "display_name": "Python 3",
   "language": "python",
   "name": "python3"
  },
  "language_info": {
   "codemirror_mode": {
    "name": "ipython",
    "version": 3
   },
   "file_extension": ".py",
   "mimetype": "text/x-python",
   "name": "python",
   "nbconvert_exporter": "python",
   "pygments_lexer": "ipython3",
   "version": "3.7.1"
  }
 },
 "nbformat": 4,
 "nbformat_minor": 2
}
