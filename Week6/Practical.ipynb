{
 "cells": [
  {
   "cell_type": "markdown",
   "metadata": {},
   "source": [
    "## Problem 1"
   ]
  },
  {
   "cell_type": "code",
   "execution_count": 6,
   "metadata": {},
   "outputs": [],
   "source": [
    "class Circle:\n",
    "    def __init__(self,radius,color):\n",
    "        self.radius = radius\n",
    "        self.color = color\n",
    "        \n",
    "    def getDesc(self):\n",
    "        print(\"A \" , self.color , \"circle with radius\" , self.radius)"
   ]
  },
  {
   "cell_type": "code",
   "execution_count": 7,
   "metadata": {},
   "outputs": [
    {
     "name": "stdout",
     "output_type": "stream",
     "text": [
      "A  red circle with radius 5\n"
     ]
    }
   ],
   "source": [
    "a = Circle(5,'red')\n",
    "a.getDesc()"
   ]
  },
  {
   "cell_type": "markdown",
   "metadata": {},
   "source": [
    "## Problem 2"
   ]
  },
  {
   "cell_type": "code",
   "execution_count": 19,
   "metadata": {},
   "outputs": [],
   "source": [
    "class Strings:\n",
    "    def __init__(self,my_str):\n",
    "        self.my_str = my_str\n",
    "    \n",
    "    def get_String(self):\n",
    "        return self.my_str\n",
    "    \n",
    "    def print_String(self):\n",
    "        print(self.my_str.upper())\n",
    "        "
   ]
  },
  {
   "cell_type": "code",
   "execution_count": 20,
   "metadata": {},
   "outputs": [
    {
     "name": "stdout",
     "output_type": "stream",
     "text": [
      "Hello\n",
      "HELLO\n"
     ]
    }
   ],
   "source": [
    "a = Strings(\"Hello\")\n",
    "print(a.get_String())\n",
    "a.print_String()"
   ]
  },
  {
   "cell_type": "markdown",
   "metadata": {},
   "source": [
    "## Problem 3"
   ]
  },
  {
   "cell_type": "code",
   "execution_count": 46,
   "metadata": {},
   "outputs": [],
   "source": [
    "class Employee:\n",
    "    __monthly_salary = 15\n",
    "    def __init__(self, name, last_name):\n",
    "        self.name = name\n",
    "        self.last_name = last_name\n",
    "        \n",
    "    def getFullName(self):\n",
    "        return self.name + \" \" + self.last_name\n",
    "    \n",
    "    def annualSalary(self):\n",
    "        if Employee.__monthly_salary * 12 > 100:\n",
    "            return True\n",
    "        else:\n",
    "            return False\n",
    "    \n",
    "    "
   ]
  },
  {
   "cell_type": "code",
   "execution_count": 47,
   "metadata": {},
   "outputs": [
    {
     "name": "stdout",
     "output_type": "stream",
     "text": [
      "Edgar Torosyan\n",
      "True\n"
     ]
    }
   ],
   "source": [
    "a = Employee(\"Edgar\", \"Torosyan\")\n",
    "print(a.getFullName())\n",
    "print(a.annualSalary())"
   ]
  },
  {
   "cell_type": "markdown",
   "metadata": {},
   "source": [
    "## Problem 4"
   ]
  },
  {
   "cell_type": "code",
   "execution_count": 56,
   "metadata": {},
   "outputs": [],
   "source": [
    "class Car:\n",
    "    \n",
    "    def __init__(self,model, color, max_speed):\n",
    "        self.model = model\n",
    "        self.color = color\n",
    "        self.max_speed = max_speed\n",
    "        \n",
    "    def compareCar(self,car2):\n",
    "        if self.max_speed > car2.max_speed:\n",
    "            print(\"Car 1 is better than car2\")\n",
    "        else:\n",
    "            print(\"Car 2 is better than car1\")\n",
    "            "
   ]
  },
  {
   "cell_type": "code",
   "execution_count": 59,
   "metadata": {},
   "outputs": [
    {
     "name": "stdout",
     "output_type": "stream",
     "text": [
      "Car 1 is better than car2\n"
     ]
    }
   ],
   "source": [
    "car1 = Car(\"Bmw\" , \"Red\", 330)\n",
    "car2 = Car(\"Mers\", \"Black\" , 220)\n",
    "car1.compareCar(car2)"
   ]
  },
  {
   "cell_type": "markdown",
   "metadata": {},
   "source": [
    "## Problem 5"
   ]
  },
  {
   "cell_type": "code",
   "execution_count": 74,
   "metadata": {},
   "outputs": [],
   "source": [
    "class Police_car:\n",
    "    \n",
    "    __pass_code = \"admin\"\n",
    "    tax_value = 0.2\n",
    "    \n",
    "    def __init__(self, owner, price):\n",
    "        self.owner = owner\n",
    "        self.price = price\n",
    "        \n",
    "    def tax(self):\n",
    "        return self.tax_value * self.price\n",
    "        \n",
    "    def greating(self):\n",
    "        if Police_car.__pass_code == \"admin\":\n",
    "            print(\"Welcome to your car\" , self.owner)"
   ]
  },
  {
   "cell_type": "code",
   "execution_count": 75,
   "metadata": {},
   "outputs": [
    {
     "name": "stdout",
     "output_type": "stream",
     "text": [
      "400.0\n",
      "Welcome to your car Mlic\n"
     ]
    }
   ],
   "source": [
    "p = Police_car(\"Mlic\", 2000)\n",
    "print(p.tax())\n",
    "p.greating()"
   ]
  },
  {
   "cell_type": "markdown",
   "metadata": {},
   "source": [
    "## Problem 6"
   ]
  },
  {
   "cell_type": "code",
   "execution_count": 95,
   "metadata": {},
   "outputs": [],
   "source": [
    "class animal:\n",
    "    def __init__(self,name):\n",
    "        self.name = name\n",
    "        \n",
    "    def move(self):\n",
    "        print(\"I can move.\")\n",
    "        \n",
    "class Dog(animal):\n",
    "    def __init__(self):\n",
    "        super().__init__(\"Dog\")\n",
    "        \n",
    "    def move(self):\n",
    "        print(\"I can run realy fast.\")"
   ]
  },
  {
   "cell_type": "code",
   "execution_count": 96,
   "metadata": {},
   "outputs": [
    {
     "name": "stdout",
     "output_type": "stream",
     "text": [
      "I can run realy fast.\n"
     ]
    }
   ],
   "source": [
    "a = Dog()\n",
    "a.move()"
   ]
  },
  {
   "cell_type": "markdown",
   "metadata": {},
   "source": [
    "## Problem 7"
   ]
  },
  {
   "cell_type": "code",
   "execution_count": 111,
   "metadata": {},
   "outputs": [],
   "source": [
    "class Animal:\n",
    "    def __init__(self,name, legs):\n",
    "        self.name = name\n",
    "        self.legs = legs\n",
    "        \n",
    "    def getName(self):\n",
    "        print(\"My name is \" , self.name)\n",
    "        \n",
    "    def getLegs(self):\n",
    "        print(\"I have \" , self.legs , \"legs\")\n",
    "        \n",
    "\n",
    "class Exnik(Animal):\n",
    "    def __init__(self):\n",
    "        super().__init__(\"Exnik\" , 4)"
   ]
  },
  {
   "cell_type": "code",
   "execution_count": 112,
   "metadata": {},
   "outputs": [
    {
     "name": "stdout",
     "output_type": "stream",
     "text": [
      "My name is  Dog\n",
      "I have  4 legs\n",
      "\n",
      "\n",
      "My name is  Exnik\n",
      "I have  4 legs\n"
     ]
    }
   ],
   "source": [
    "dog = Animal(\"Dog\" , 4)\n",
    "dog.getName()\n",
    "dog.getLegs()\n",
    "print(\"\\n\")\n",
    "exnik = Exnik()\n",
    "exnik.getName()\n",
    "exnik.getLegs()\n"
   ]
  },
  {
   "cell_type": "markdown",
   "metadata": {},
   "source": [
    "## Problem 8"
   ]
  },
  {
   "cell_type": "code",
   "execution_count": 1,
   "metadata": {},
   "outputs": [],
   "source": [
    "from abc import  abstractmethod\n",
    "\n",
    "class Bird:\n",
    "    def __init__(self,name,weight):\n",
    "        self.name = name\n",
    "        self.weight = weight\n",
    "    @abstractmethod    \n",
    "    def fly(self):\n",
    "        pass\n",
    "        \n",
    "class Hav(Bird):\n",
    "    def __init__(self):\n",
    "        super().__init__(\"Hav\" , 12)\n",
    "        \n",
    "    def fly(self):\n",
    "        print(\"I believe I can fly\")\n",
    "    "
   ]
  },
  {
   "cell_type": "code",
   "execution_count": 2,
   "metadata": {},
   "outputs": [
    {
     "name": "stdout",
     "output_type": "stream",
     "text": [
      "I believe I can fly\n"
     ]
    }
   ],
   "source": [
    "hav = Hav()\n",
    "hav.fly()"
   ]
  },
  {
   "cell_type": "code",
   "execution_count": null,
   "metadata": {},
   "outputs": [],
   "source": []
  }
 ],
 "metadata": {
  "kernelspec": {
   "display_name": "Python 3",
   "language": "python",
   "name": "python3"
  },
  "language_info": {
   "codemirror_mode": {
    "name": "ipython",
    "version": 3
   },
   "file_extension": ".py",
   "mimetype": "text/x-python",
   "name": "python",
   "nbconvert_exporter": "python",
   "pygments_lexer": "ipython3",
   "version": "3.7.1"
  }
 },
 "nbformat": 4,
 "nbformat_minor": 2
}
