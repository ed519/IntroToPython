{
 "cells": [
  {
   "cell_type": "markdown",
   "metadata": {},
   "source": [
    "## Problem 1"
   ]
  },
  {
   "cell_type": "code",
   "execution_count": 74,
   "metadata": {},
   "outputs": [],
   "source": [
    "class Person:\n",
    "    __password = \"rrrr\"\n",
    "    def __init__(self,name, last_name, age, student:bool):\n",
    "        self.name = name\n",
    "        self.last_name = last_name\n",
    "        self.age = age\n",
    "        self.student = student\n",
    "        \n",
    "    def Greeting(self, second_person):\n",
    "        print(\"Welcome dear \" , second_person.name)\n",
    "        \n",
    "    def GoodBye(self):\n",
    "        print(\"Bye everyone!\")\n",
    "        \n",
    "    def Favourite_num(self,num1):\n",
    "        print(\"My favourite number is\" , num1)\n",
    "        \n",
    "    def set_pass(self,password):\n",
    "        Person.__password = password\n",
    "        \n",
    "    def get_pass(self):\n",
    "        return Person.__password\n",
    "        \n",
    "    def Read_file(self,filename):\n",
    "        print(\"-----Text file-----\")\n",
    "        f = open(filename + '.txt' , \"r\")\n",
    "        print(f.read())\n",
    "        f.close()\n",
    "        print(\"-------------------\")"
   ]
  },
  {
   "cell_type": "code",
   "execution_count": 75,
   "metadata": {},
   "outputs": [
    {
     "name": "stdout",
     "output_type": "stream",
     "text": [
      "Welcome dear  Karen\n",
      "My favourite number is 3\n",
      "-----Text file-----|\n",
      "Edgar Torosyan\n",
      "Karen Harutyunyan\n",
      "Sahak Matevosyan\n",
      "-------------------|\n"
     ]
    }
   ],
   "source": [
    "pers = Person(\"Edgar\", \"Torosyan\", 21,True)\n",
    "second_person = Person(\"Karen\", \"Makaryan\",18,False)\n",
    "pers.Greeting(second_person)\n",
    "pers.Favourite_num(3)\n",
    "pers.Read_file(\"textfile\")\n",
    "#pers.set_pass(\"admin\")\n",
    "#print(pers.get_pass())"
   ]
  },
  {
   "cell_type": "markdown",
   "metadata": {},
   "source": [
    "## Problem 2"
   ]
  },
  {
   "cell_type": "code",
   "execution_count": 108,
   "metadata": {},
   "outputs": [],
   "source": [
    "class Calculation:\n",
    "    def __init__(self,x,y):\n",
    "        self.x = x\n",
    "        self.y = y\n",
    "        \n",
    "    def addition(self):\n",
    "        print(self.x + self.y)\n",
    "        \n",
    "    def subtraction(self):\n",
    "        print(self.x - self.y)\n",
    "        \n",
    "        \n",
    "class MyCalculation(Calculation):\n",
    "    def __init__(self ,x ,y ):\n",
    "        self.x = x\n",
    "        self.y = y\n",
    "        super().__init__( self.x, self.y)\n",
    "        \n",
    "    def multiplication(self):\n",
    "        print(self.x * self.y)\n",
    "        \n",
    "    def division(self):\n",
    "        print(self.x / self.y)"
   ]
  },
  {
   "cell_type": "code",
   "execution_count": 109,
   "metadata": {},
   "outputs": [
    {
     "name": "stdout",
     "output_type": "stream",
     "text": [
      "6\n",
      "-2\n",
      "8\n",
      "-2\n",
      "15\n",
      "0.6\n"
     ]
    }
   ],
   "source": [
    "num1 = Calculation(2,4)\n",
    "num1.addition()\n",
    "num1.subtraction()\n",
    "num2 = MyCalculation(3,5)\n",
    "num2.addition()\n",
    "num2.subtraction()\n",
    "num2.multiplication()\n",
    "num2.division()"
   ]
  },
  {
   "cell_type": "markdown",
   "metadata": {},
   "source": [
    "## Problem 3"
   ]
  },
  {
   "cell_type": "code",
   "execution_count": 162,
   "metadata": {},
   "outputs": [],
   "source": [
    "class My_Time:\n",
    "    def __init__(self, t):\n",
    "        self.t = t\n",
    "       \n",
    "    def printTime(self):\n",
    "        print(\"Current time is\" , self.t)\n",
    "        \n",
    "class My_Date():\n",
    "    def __init__(self, d):\n",
    "        self.d = d\n",
    "        \n",
    "    def printDate(self):\n",
    "        print(\"Current date is \" , self.d)\n",
    "        \n",
    "class Date_Time(My_Date, My_Time):\n",
    "    def __init__(self , t,d):\n",
    "        self.t = t\n",
    "        self.d = d\n",
    "        My_Date.__init__(self , self.d)\n",
    "        My_Time.__init__(self, self.t)\n",
    "        #super().__init__(d)"
   ]
  },
  {
   "cell_type": "code",
   "execution_count": 163,
   "metadata": {},
   "outputs": [
    {
     "name": "stdout",
     "output_type": "stream",
     "text": [
      "-----------\n",
      "Current date is  12.04.2020\n",
      "Current time is 10AM\n"
     ]
    }
   ],
   "source": [
    "#time = My_Time(\"10AM\")\n",
    "#time.printTime()\n",
    "\n",
    "#date = My_Date(\"12.01.2020\")\n",
    "#date.printDate()\n",
    "print(\"-----------\")\n",
    "date_time = Date_Time(\"10AM\" , \"12.04.2020\")\n",
    "date_time.printDate()\n",
    "date_time.printTime()"
   ]
  },
  {
   "cell_type": "markdown",
   "metadata": {},
   "source": [
    "## Problem 4"
   ]
  },
  {
   "cell_type": "code",
   "execution_count": 193,
   "metadata": {},
   "outputs": [],
   "source": [
    "class Model:\n",
    "    def __init__(self, name):\n",
    "        self.name = name\n",
    "        \n",
    "    def printModel(self):\n",
    "        print(\"The model of the vehicle is \" , self.name)\n",
    "        \n",
    "class Color:\n",
    "    def __init__(self, color):\n",
    "        self.color = color\n",
    "        \n",
    "    def printColor(self):\n",
    "        print(\"The color of the vehicle is\" , self.color)\n",
    "        \n",
    "class Car(Model, Color):\n",
    "    def __init__(self, model , color):\n",
    "        self.model = model\n",
    "        self.color = color\n",
    "        Model.__init__(self ,self.model)\n",
    "        Color.__init__(self , self.color)"
   ]
  },
  {
   "cell_type": "code",
   "execution_count": 194,
   "metadata": {},
   "outputs": [
    {
     "name": "stdout",
     "output_type": "stream",
     "text": [
      "The model of the vehicle is  BMW\n",
      "The color of the vehicle is Yellow\n"
     ]
    }
   ],
   "source": [
    "#model = Model(\"BMW\")\n",
    "#model.printModel()\n",
    "\n",
    "#color = Color(\"red\")\n",
    "#color.printColor()\n",
    "\n",
    "car = Car(\"BMW\" , \"Yellow\")\n",
    "car.printModel()\n",
    "car.printColor()"
   ]
  },
  {
   "cell_type": "code",
   "execution_count": null,
   "metadata": {},
   "outputs": [],
   "source": []
  },
  {
   "cell_type": "code",
   "execution_count": null,
   "metadata": {},
   "outputs": [],
   "source": []
  }
 ],
 "metadata": {
  "kernelspec": {
   "display_name": "Python 3",
   "language": "python",
   "name": "python3"
  },
  "language_info": {
   "codemirror_mode": {
    "name": "ipython",
    "version": 3
   },
   "file_extension": ".py",
   "mimetype": "text/x-python",
   "name": "python",
   "nbconvert_exporter": "python",
   "pygments_lexer": "ipython3",
   "version": "3.7.1"
  }
 },
 "nbformat": 4,
 "nbformat_minor": 2
}
