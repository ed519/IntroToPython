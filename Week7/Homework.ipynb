{
 "cells": [
  {
   "cell_type": "markdown",
   "metadata": {},
   "source": [
    "## Problem 1"
   ]
  },
  {
   "cell_type": "code",
   "execution_count": 199,
   "metadata": {},
   "outputs": [
    {
     "name": "stdout",
     "output_type": "stream",
     "text": [
      "Module not found\n"
     ]
    }
   ],
   "source": [
    "try:\n",
    "    import edgar\n",
    "except ModuleNotFoundError:\n",
    "    print(\"Module not found\")"
   ]
  },
  {
   "cell_type": "markdown",
   "metadata": {},
   "source": [
    "## Problem 2"
   ]
  },
  {
   "cell_type": "code",
   "execution_count": 200,
   "metadata": {},
   "outputs": [
    {
     "ename": "AssertionError",
     "evalue": "Can't divide.",
     "output_type": "error",
     "traceback": [
      "\u001b[0;31m---------------------------------------------------------------------------\u001b[0m",
      "\u001b[0;31mAssertionError\u001b[0m                            Traceback (most recent call last)",
      "\u001b[0;32m<ipython-input-200-52297b655106>\u001b[0m in \u001b[0;36m<module>\u001b[0;34m\u001b[0m\n\u001b[1;32m      5\u001b[0m     \u001b[0;32mreturn\u001b[0m \u001b[0mx\u001b[0m\u001b[0;34m/\u001b[0m\u001b[0my\u001b[0m\u001b[0;34m\u001b[0m\u001b[0;34m\u001b[0m\u001b[0m\n\u001b[1;32m      6\u001b[0m \u001b[0;34m\u001b[0m\u001b[0m\n\u001b[0;32m----> 7\u001b[0;31m \u001b[0mdiv\u001b[0m\u001b[0;34m(\u001b[0m\u001b[0;36m1\u001b[0m\u001b[0;34m,\u001b[0m\u001b[0;36m0\u001b[0m\u001b[0;34m)\u001b[0m\u001b[0;34m\u001b[0m\u001b[0;34m\u001b[0m\u001b[0m\n\u001b[0m",
      "\u001b[0;32m<ipython-input-200-52297b655106>\u001b[0m in \u001b[0;36mdiv\u001b[0;34m(x, y)\u001b[0m\n\u001b[1;32m      2\u001b[0m     \u001b[0;32massert\u001b[0m \u001b[0mtype\u001b[0m\u001b[0;34m(\u001b[0m\u001b[0mx\u001b[0m\u001b[0;34m)\u001b[0m \u001b[0;34m==\u001b[0m \u001b[0mint\u001b[0m \u001b[0;34m,\u001b[0m \u001b[0;34m\"X is not int.\"\u001b[0m\u001b[0;34m\u001b[0m\u001b[0;34m\u001b[0m\u001b[0m\n\u001b[1;32m      3\u001b[0m     \u001b[0;32massert\u001b[0m \u001b[0mtype\u001b[0m\u001b[0;34m(\u001b[0m\u001b[0my\u001b[0m\u001b[0;34m)\u001b[0m \u001b[0;34m==\u001b[0m \u001b[0mint\u001b[0m \u001b[0;34m,\u001b[0m \u001b[0;34m\"Y is not int.\"\u001b[0m\u001b[0;34m\u001b[0m\u001b[0;34m\u001b[0m\u001b[0m\n\u001b[0;32m----> 4\u001b[0;31m     \u001b[0;32massert\u001b[0m \u001b[0my\u001b[0m \u001b[0;34m!=\u001b[0m \u001b[0;36m0\u001b[0m \u001b[0;34m,\u001b[0m \u001b[0;34m\"Can't divide.\"\u001b[0m\u001b[0;34m\u001b[0m\u001b[0;34m\u001b[0m\u001b[0m\n\u001b[0m\u001b[1;32m      5\u001b[0m     \u001b[0;32mreturn\u001b[0m \u001b[0mx\u001b[0m\u001b[0;34m/\u001b[0m\u001b[0my\u001b[0m\u001b[0;34m\u001b[0m\u001b[0;34m\u001b[0m\u001b[0m\n\u001b[1;32m      6\u001b[0m \u001b[0;34m\u001b[0m\u001b[0m\n",
      "\u001b[0;31mAssertionError\u001b[0m: Can't divide."
     ]
    }
   ],
   "source": [
    "def div(x,y):\n",
    "    assert type(x) == int , \"X is not int.\"\n",
    "    assert type(y) == int , \"Y is not int.\"\n",
    "    assert y != 0 , \"Can't divide.\"\n",
    "    return x/y\n",
    "\n",
    "div(1,0)"
   ]
  },
  {
   "cell_type": "markdown",
   "metadata": {},
   "source": [
    "## Problem 3"
   ]
  },
  {
   "cell_type": "code",
   "execution_count": 201,
   "metadata": {},
   "outputs": [],
   "source": [
    "def exemple_func(my_list:list):\n",
    "    my_sum = 0\n",
    "    sum_of_pairs = []\n",
    "    try:\n",
    "        for i in range(len(my_list)):\n",
    "            sum_of_pairs.append(my_list[i] + my_list[i] + 1)\n",
    "    except TypeError:\n",
    "        print(\"Type Error\")\n",
    "    print(\"Sum of pairs:\" , sum_of_pairs)"
   ]
  },
  {
   "cell_type": "code",
   "execution_count": 202,
   "metadata": {},
   "outputs": [
    {
     "name": "stdout",
     "output_type": "stream",
     "text": [
      "Type Error\n",
      "Sum of pairs: [3, 5, 7]\n"
     ]
    }
   ],
   "source": [
    "exemple_func([1,2,3,\"asd\"])"
   ]
  },
  {
   "cell_type": "markdown",
   "metadata": {},
   "source": [
    "## Problem 4"
   ]
  },
  {
   "cell_type": "code",
   "execution_count": 203,
   "metadata": {},
   "outputs": [],
   "source": [
    "def UpperContent(filename):\n",
    "    try:\n",
    "        myfile = open(filename, \"r\")\n",
    "        \n",
    "        for line in myfile:\n",
    "            print(line.upper())\n",
    "\n",
    "        f.close()\n",
    "    except FileNotFoundError:\n",
    "        print(\"File not found.\")\n",
    "#how to check file closeing?????"
   ]
  },
  {
   "cell_type": "code",
   "execution_count": 204,
   "metadata": {},
   "outputs": [
    {
     "name": "stdout",
     "output_type": "stream",
     "text": [
      "File not found.\n"
     ]
    }
   ],
   "source": [
    "UpperContent(\"list.txt\")"
   ]
  },
  {
   "cell_type": "markdown",
   "metadata": {},
   "source": [
    "## Problem 5"
   ]
  },
  {
   "cell_type": "code",
   "execution_count": 205,
   "metadata": {},
   "outputs": [],
   "source": [
    "import numpy as np"
   ]
  },
  {
   "cell_type": "code",
   "execution_count": 206,
   "metadata": {},
   "outputs": [
    {
     "data": {
      "text/plain": [
       "array([[1, 7, 2, 3, 7],\n",
       "       [5, 4, 1, 7, 6],\n",
       "       [9, 4, 3, 8, 1]])"
      ]
     },
     "execution_count": 206,
     "metadata": {},
     "output_type": "execute_result"
    }
   ],
   "source": [
    "a = np.random.randint(1,10,size=(3,5))\n",
    "a"
   ]
  },
  {
   "cell_type": "markdown",
   "metadata": {},
   "source": [
    "## Problem 4 (filei mej varjutyan hamarnery xarnvac en)"
   ]
  },
  {
   "cell_type": "code",
   "execution_count": 207,
   "metadata": {},
   "outputs": [
    {
     "name": "stdout",
     "output_type": "stream",
     "text": [
      "[0. 0. 0. 0. 3. 0. 0. 0. 0. 0.]\n"
     ]
    }
   ],
   "source": [
    "a = np.zeros(10)\n",
    "a[4] = 3\n",
    "print(a)"
   ]
  },
  {
   "cell_type": "markdown",
   "metadata": {},
   "source": [
    "## Problem 5"
   ]
  },
  {
   "cell_type": "code",
   "execution_count": 208,
   "metadata": {},
   "outputs": [
    {
     "data": {
      "text/plain": [
       "array([ 3,  4,  5,  6,  7,  8,  9, 10, 11, 12, 13, 14])"
      ]
     },
     "execution_count": 208,
     "metadata": {},
     "output_type": "execute_result"
    }
   ],
   "source": [
    "a = np.arange(3,15)\n",
    "a"
   ]
  },
  {
   "cell_type": "markdown",
   "metadata": {},
   "source": [
    "## Problem 6"
   ]
  },
  {
   "cell_type": "code",
   "execution_count": 209,
   "metadata": {},
   "outputs": [
    {
     "name": "stdout",
     "output_type": "stream",
     "text": [
      "b(3,2)=\n",
      " [[1 3]\n",
      " [5 2]\n",
      " [4 5]]\n",
      "c(2,3)=\n",
      " [[1 3 5]\n",
      " [2 4 5]]\n"
     ]
    }
   ],
   "source": [
    "a = np.array([1,3,5,2,4,5])\n",
    "b = a.reshape(3,2)\n",
    "c = a.reshape(2,3)\n",
    "print(\"b(3,2)=\\n\" , b)\n",
    "print(\"c(2,3)=\\n\" , c)"
   ]
  },
  {
   "cell_type": "markdown",
   "metadata": {},
   "source": [
    "## Problem 7"
   ]
  },
  {
   "cell_type": "code",
   "execution_count": 210,
   "metadata": {},
   "outputs": [],
   "source": [
    "def func(array):\n",
    "    mijin =np.mean(array)\n",
    "    while mijin > 5:\n",
    "        for i in range(len(array)):\n",
    "            array[i] = array[i] / 2\n",
    "        mijin = np.mean(array)\n",
    "    print(\"Mijin:\" , mijin)\n",
    "    print(\"Array:\" , array)"
   ]
  },
  {
   "cell_type": "code",
   "execution_count": 211,
   "metadata": {},
   "outputs": [
    {
     "name": "stdout",
     "output_type": "stream",
     "text": [
      "Mijin: 3.8333333333333335\n",
      "Array: [1 3 6 2 5 6]\n"
     ]
    }
   ],
   "source": [
    "a = np.array([10,30,50,20,40,50])\n",
    "\n",
    "func(a)"
   ]
  },
  {
   "cell_type": "markdown",
   "metadata": {},
   "source": [
    "## Problem 8 Cragri hamar kap chuni chapy ashxatuma cankacac chapi arrayneri het)"
   ]
  },
  {
   "cell_type": "code",
   "execution_count": 212,
   "metadata": {},
   "outputs": [],
   "source": [
    "def get_column(array):\n",
    "    print(array)\n",
    "    columns = len(array[0])\n",
    "    for i in range(columns):\n",
    "        print(\"Column \" , i , \":\" , array[...,i])\n",
    "        \n",
    "def get_rows(array):\n",
    "    print(array)\n",
    "    rows = len(array)\n",
    "    for i in range(rows):\n",
    "        print(\"Row \" , i , \":\" , array[i,...])"
   ]
  },
  {
   "cell_type": "code",
   "execution_count": 197,
   "metadata": {},
   "outputs": [
    {
     "name": "stdout",
     "output_type": "stream",
     "text": [
      "[[8 3 3 4 6 1 2 5]\n",
      " [1 3 4 7 5 1 7 8]\n",
      " [7 1 5 8 2 4 5 5]\n",
      " [3 5 1 8 2 5 5 9]\n",
      " [4 8 6 1 6 3 2 2]]\n",
      "Row  0 : [8 3 3 4 6 1 2 5]\n",
      "Row  1 : [1 3 4 7 5 1 7 8]\n",
      "Row  2 : [7 1 5 8 2 4 5 5]\n",
      "Row  3 : [3 5 1 8 2 5 5 9]\n",
      "Row  4 : [4 8 6 1 6 3 2 2]\n"
     ]
    }
   ],
   "source": [
    "get_rows(np.random.randint(1,10,size=(5,8)))"
   ]
  },
  {
   "cell_type": "code",
   "execution_count": 198,
   "metadata": {},
   "outputs": [
    {
     "name": "stdout",
     "output_type": "stream",
     "text": [
      "[[9 5 9 6 8 5 2 8]\n",
      " [7 4 5 8 9 2 7 6]\n",
      " [1 4 6 3 1 5 6 3]\n",
      " [9 6 2 7 1 4 4 2]\n",
      " [4 2 1 8 7 6 9 3]]\n",
      "Column  0 : [9 7 1 9 4]\n",
      "Column  1 : [5 4 4 6 2]\n",
      "Column  2 : [9 5 6 2 1]\n",
      "Column  3 : [6 8 3 7 8]\n",
      "Column  4 : [8 9 1 1 7]\n",
      "Column  5 : [5 2 5 4 6]\n",
      "Column  6 : [2 7 6 4 9]\n",
      "Column  7 : [8 6 3 2 3]\n"
     ]
    }
   ],
   "source": [
    "get_column(np.random.randint(1,10,size=(5,8)))"
   ]
  },
  {
   "cell_type": "code",
   "execution_count": null,
   "metadata": {},
   "outputs": [],
   "source": []
  }
 ],
 "metadata": {
  "kernelspec": {
   "display_name": "Python 3",
   "language": "python",
   "name": "python3"
  },
  "language_info": {
   "codemirror_mode": {
    "name": "ipython",
    "version": 3
   },
   "file_extension": ".py",
   "mimetype": "text/x-python",
   "name": "python",
   "nbconvert_exporter": "python",
   "pygments_lexer": "ipython3",
   "version": "3.7.1"
  }
 },
 "nbformat": 4,
 "nbformat_minor": 2
}
