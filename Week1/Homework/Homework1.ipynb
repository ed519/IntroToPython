{
 "cells": [
  {
   "cell_type": "code",
   "execution_count": 20,
   "metadata": {},
   "outputs": [
    {
     "name": "stdout",
     "output_type": "stream",
     "text": [
      "False\n",
      "True\n",
      "True\n",
      "False\n",
      "<class 'int'>\n",
      "<class 'int'>\n",
      "<class 'int'>\n",
      "<class 'str'>\n",
      "<class 'float'>\n"
     ]
    }
   ],
   "source": [
    "project = \"cake\"\n",
    "difficulty = 3\n",
    "ingredients = [\"flour\",\"butter\", \"sugar\", \"eggs\", \"cocoa powder\", \"baking powder\"]\n",
    "print(\"apple\" in ingredients)\n",
    "print(\"butter\" in ingredients)\n",
    "print((\"eggs\" in ingredients) or (\"margarine\" in ingredients))\n",
    "print((\"eggs\" in ingredients) and (\"margarine\" in ingredients))\n",
    "\n",
    "flour = 175\n",
    "butter = 175\n",
    "sugar = \"100g\"\n",
    "eggs = 2\n",
    "cocoa_powder = \"1ts\"\n",
    "baking_powder = 0.5\n",
    "\n",
    "print(type(flour))\n",
    "print(type(butter))\n",
    "print(type(eggs))\n",
    "print(type(cocoa_powder))\n",
    "print(type(baking_powder))\n"
   ]
  },
  {
   "cell_type": "code",
   "execution_count": 23,
   "metadata": {},
   "outputs": [
    {
     "name": "stdout",
     "output_type": "stream",
     "text": [
      "Flour - 175 g\n",
      "Butter - 175 g\n",
      "Eggs - 2\n"
     ]
    }
   ],
   "source": [
    "print(\"Flour -\", flour , \"g\")\n",
    "print(\"Butter -\", butter , \"g\")\n",
    "print(\"Eggs -\", eggs)\n",
    "\n"
   ]
  },
  {
   "cell_type": "code",
   "execution_count": null,
   "metadata": {},
   "outputs": [],
   "source": []
  }
 ],
 "metadata": {
  "kernelspec": {
   "display_name": "Python 3",
   "language": "python",
   "name": "python3"
  },
  "language_info": {
   "codemirror_mode": {
    "name": "ipython",
    "version": 3
   },
   "file_extension": ".py",
   "mimetype": "text/x-python",
   "name": "python",
   "nbconvert_exporter": "python",
   "pygments_lexer": "ipython3",
   "version": "3.5.2"
  }
 },
 "nbformat": 4,
 "nbformat_minor": 4
}
