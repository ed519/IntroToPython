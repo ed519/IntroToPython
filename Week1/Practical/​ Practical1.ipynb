{
 "cells": [
  {
   "cell_type": "markdown",
   "metadata": {},
   "source": [
    "# Problem 2"
   ]
  },
  {
   "cell_type": "code",
   "execution_count": 9,
   "metadata": {},
   "outputs": [
    {
     "name": "stdout",
     "output_type": "stream",
     "text": [
      "course: Intro to Python\n",
      "student: Edgar Torosyan\n",
      "nickname: Ed\n",
      "grade: 21\n",
      "python expert: False\n"
     ]
    }
   ],
   "source": [
    "course = \"Intro to Python\"\n",
    "student = \"Edgar Torosyan\"\n",
    "nickname = \"Ed\"\n",
    "grade = 21\n",
    "pythonExpert = False\n",
    "\n",
    "print(\"course:\",course)\n",
    "print(\"student:\",student)\n",
    "print(\"nickname:\",nickname)\n",
    "print(\"grade:\",grade)\n",
    "print(\"python expert:\",pythonExpert)\n"
   ]
  },
  {
   "cell_type": "markdown",
   "metadata": {},
   "source": [
    "## Problem 4"
   ]
  },
  {
   "cell_type": "code",
   "execution_count": 12,
   "metadata": {},
   "outputs": [
    {
     "name": "stdout",
     "output_type": "stream",
     "text": [
      "The hypotenuse of the triangle ABC = 5.0\n"
     ]
    }
   ],
   "source": [
    "ab = 3\n",
    "ac = 4 \n",
    "\n",
    "bc = (ab**2 + ac**2)**(1/2)\n",
    "print(\"The hypotenuse of the triangle ABC =\", bc)\n"
   ]
  },
  {
   "cell_type": "code",
   "execution_count": null,
   "metadata": {},
   "outputs": [],
   "source": []
  }
 ],
 "metadata": {
  "celltoolbar": "Raw Cell Format",
  "kernelspec": {
   "display_name": "Python 3",
   "language": "python",
   "name": "python3"
  },
  "language_info": {
   "codemirror_mode": {
    "name": "ipython",
    "version": 3
   },
   "file_extension": ".py",
   "mimetype": "text/x-python",
   "name": "python",
   "nbconvert_exporter": "python",
   "pygments_lexer": "ipython3",
   "version": "3.5.2"
  }
 },
 "nbformat": 4,
 "nbformat_minor": 4
}
