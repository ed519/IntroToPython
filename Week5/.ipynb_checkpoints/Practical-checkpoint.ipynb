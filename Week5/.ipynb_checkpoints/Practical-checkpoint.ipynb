{
 "cells": [
  {
   "cell_type": "markdown",
   "metadata": {},
   "source": [
    "## Problem 1"
   ]
  },
  {
   "cell_type": "code",
   "execution_count": 1,
   "metadata": {},
   "outputs": [
    {
     "data": {
      "text/plain": [
       "3.0"
      ]
     },
     "execution_count": 1,
     "metadata": {},
     "output_type": "execute_result"
    }
   ],
   "source": [
    "def mijin(a,b,c):\n",
    "    return (a+b+c)/3\n",
    "\n",
    "mijin(1,3,5)"
   ]
  },
  {
   "cell_type": "markdown",
   "metadata": {},
   "source": [
    "## Problem 2"
   ]
  },
  {
   "cell_type": "code",
   "execution_count": 5,
   "metadata": {},
   "outputs": [
    {
     "data": {
      "text/plain": [
       "6"
      ]
     },
     "execution_count": 5,
     "metadata": {},
     "output_type": "execute_result"
    }
   ],
   "source": [
    "def zuyg_list(list1:list):\n",
    "    zuyg = 0\n",
    "    for x in list1:\n",
    "        if x %2 == 0:\n",
    "            zuyg +=1\n",
    "    return zuyg\n",
    "        \n",
    "        \n",
    "zuyg_list([1,2,3,4,5,8,8,8,8])"
   ]
  },
  {
   "cell_type": "markdown",
   "metadata": {},
   "source": [
    "## Problem 3"
   ]
  },
  {
   "cell_type": "code",
   "execution_count": 25,
   "metadata": {},
   "outputs": [
    {
     "data": {
      "text/plain": [
       "True"
      ]
     },
     "execution_count": 25,
     "metadata": {},
     "output_type": "execute_result"
    }
   ],
   "source": [
    "def password_check(password:str):\n",
    "    if len(password) > 10 and digit_check(password) > 2 :\n",
    "        return True\n",
    "    else:\n",
    "        return False\n",
    "            \n",
    "\n",
    "    \n",
    "def digit_check(passw:str):\n",
    "    count = 0\n",
    "    for x in passw:\n",
    "        if(x.isdigit()):\n",
    "            count +=1\n",
    "    return count\n",
    "\n",
    "password_check(\"longpassword323\")"
   ]
  },
  {
   "cell_type": "markdown",
   "metadata": {},
   "source": [
    "## Problem 4"
   ]
  },
  {
   "cell_type": "code",
   "execution_count": 26,
   "metadata": {},
   "outputs": [
    {
     "name": "stdout",
     "output_type": "stream",
     "text": [
      "Edgar Welcome to our company!\n"
     ]
    }
   ],
   "source": [
    "def name_greeting(name , greeting = \"Welcome to our company!\"):\n",
    "    print(name , greeting)\n",
    "    \n",
    "name_greeting(\"Edgar\")"
   ]
  },
  {
   "cell_type": "markdown",
   "metadata": {},
   "source": [
    "## Problem 5"
   ]
  },
  {
   "cell_type": "code",
   "execution_count": 46,
   "metadata": {},
   "outputs": [
    {
     "name": "stdout",
     "output_type": "stream",
     "text": [
      "Edgar ,your average grade is: 2.0\n"
     ]
    }
   ],
   "source": [
    "def mijin(name , *argv):\n",
    "    if argv == ():\n",
    "        print(\"No grades available for\" , name)\n",
    "    else:\n",
    "        print(name , \",your average grade is:\" , sum(argv) / len(argv))\n",
    "        \n",
    "        \n",
    "mijin(\"Edgar\",1,2,3)"
   ]
  },
  {
   "cell_type": "markdown",
   "metadata": {},
   "source": [
    "## Problem 6"
   ]
  },
  {
   "cell_type": "code",
   "execution_count": 51,
   "metadata": {},
   "outputs": [
    {
     "name": "stdout",
     "output_type": "stream",
     "text": [
      "key1 hello\n",
      "key2 hi\n"
     ]
    }
   ],
   "source": [
    "def p6(user , **kwargs):\n",
    "    if user == \"admin\":\n",
    "        for key,value in kwargs.items():\n",
    "            print(key, value)\n",
    "    else:\n",
    "        print(\"Access denied to the user\" , user)\n",
    "            \n",
    "\n",
    "p6(\"admin\" , key1=\"hello\" , key2= \"hi\")"
   ]
  }
 ],
 "metadata": {
  "kernelspec": {
   "display_name": "Python 3",
   "language": "python",
   "name": "python3"
  },
  "language_info": {
   "codemirror_mode": {
    "name": "ipython",
    "version": 3
   },
   "file_extension": ".py",
   "mimetype": "text/x-python",
   "name": "python",
   "nbconvert_exporter": "python",
   "pygments_lexer": "ipython3",
   "version": "3.7.1"
  }
 },
 "nbformat": 4,
 "nbformat_minor": 2
}
