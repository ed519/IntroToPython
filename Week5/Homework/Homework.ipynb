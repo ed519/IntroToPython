{
 "cells": [
  {
   "cell_type": "markdown",
   "metadata": {},
   "source": [
    "## Problem 1"
   ]
  },
  {
   "cell_type": "code",
   "execution_count": 11,
   "metadata": {},
   "outputs": [
    {
     "data": {
      "text/plain": [
       "324"
      ]
     },
     "execution_count": 11,
     "metadata": {},
     "output_type": "execute_result"
    }
   ],
   "source": [
    "def my_max(*argv):\n",
    "    if argv == ():\n",
    "        print(\"No numbers given\")\n",
    "    else:\n",
    "        big = argv[0]\n",
    "        for x in argv:\n",
    "            if x > big:\n",
    "                big = x\n",
    "    return big\n",
    "            \n",
    "my_max(100,2,324,21,44,3,2,9)"
   ]
  },
  {
   "cell_type": "markdown",
   "metadata": {},
   "source": [
    "## Problem 2"
   ]
  },
  {
   "cell_type": "code",
   "execution_count": 12,
   "metadata": {},
   "outputs": [
    {
     "data": {
      "text/plain": [
       "[1, 3, 12, 4]"
      ]
     },
     "execution_count": 12,
     "metadata": {},
     "output_type": "execute_result"
    }
   ],
   "source": [
    "def list_unique(list1:list):\n",
    "    return list(set(list1))\n",
    "\n",
    "list_unique([1,1,1,1,12,3,4])"
   ]
  },
  {
   "cell_type": "markdown",
   "metadata": {},
   "source": [
    "## Problem 3"
   ]
  },
  {
   "cell_type": "code",
   "execution_count": 28,
   "metadata": {},
   "outputs": [
    {
     "name": "stdout",
     "output_type": "stream",
     "text": [
      "55\n"
     ]
    }
   ],
   "source": [
    "def fib(n: int):\n",
    "    x = 2\n",
    "    list1 = [1,1]\n",
    "    while x < n:\n",
    "        list1.append(int(list1[x-2]) + int(list1[x-1]))\n",
    "        x += 1 \n",
    "    \n",
    "    print(list1[x-1])\n",
    "\n",
    "    \n",
    "fib(10)"
   ]
  },
  {
   "cell_type": "markdown",
   "metadata": {},
   "source": [
    "## Problem 4"
   ]
  },
  {
   "cell_type": "code",
   "execution_count": 35,
   "metadata": {},
   "outputs": [
    {
     "data": {
      "text/plain": [
       "[11, 16, 35, 55, 11, 12, 13, 14]"
      ]
     },
     "execution_count": 35,
     "metadata": {},
     "output_type": "execute_result"
    }
   ],
   "source": [
    "def my_func(n):\n",
    "    if n <10:\n",
    "        return n + 10\n",
    "    else:\n",
    "        return n - 10\n",
    "\n",
    "list1 = [1,6,45,65,1,2,3,4]\n",
    "\n",
    "\n",
    "list(map(lambda x : my_func(x) , list1))"
   ]
  }
 ],
 "metadata": {
  "kernelspec": {
   "display_name": "Python 3",
   "language": "python",
   "name": "python3"
  },
  "language_info": {
   "codemirror_mode": {
    "name": "ipython",
    "version": 3
   },
   "file_extension": ".py",
   "mimetype": "text/x-python",
   "name": "python",
   "nbconvert_exporter": "python",
   "pygments_lexer": "ipython3",
   "version": "3.7.1"
  }
 },
 "nbformat": 4,
 "nbformat_minor": 2
}
